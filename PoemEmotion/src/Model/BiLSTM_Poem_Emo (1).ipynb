{
  "cells": [
    {
      "cell_type": "markdown",
      "metadata": {
        "id": "AWT2c_w4ix1f"
      },
      "source": [
        "# Load Data"
      ]
    },
    {
      "cell_type": "code",
      "execution_count": null,
      "metadata": {
        "colab": {
          "base_uri": "https://localhost:8080/"
        },
        "id": "NBz1PBFh-_ZX",
        "outputId": "eb0e0635-a620-4de2-c6e6-f62f794472d0"
      },
      "outputs": [
        {
          "name": "stderr",
          "output_type": "stream",
          "text": [
            "[nltk_data] Downloading package omw-1.4 to /root/nltk_data...\n",
            "[nltk_data] Downloading package wordnet to /root/nltk_data...\n",
            "[nltk_data] Downloading package punkt to /root/nltk_data...\n",
            "[nltk_data]   Unzipping tokenizers/punkt.zip.\n",
            "[nltk_data] Downloading package stopwords to /root/nltk_data...\n",
            "[nltk_data]   Unzipping corpora/stopwords.zip.\n",
            "[nltk_data] Error loading corpus: Package 'corpus' not found in index\n"
          ]
        }
      ],
      "source": [
        "import spacy\n",
        "import nltk\n",
        "nltk.download('omw-1.4')\n",
        "nltk.download('wordnet')\n",
        "nltk.download('punkt')\n",
        "nltk.download('stopwords')\n",
        "nltk.download('corpus')\n",
        "from nltk.stem import WordNetLemmatizer\n",
        "# Load the stop words and lemmatizing model\n",
        "en_model = spacy.load('en_core_web_sm')\n",
        "stopwords = en_model.Defaults.stop_words\n",
        "wnl = WordNetLemmatizer()\n",
        "# create new token list lemmatized, rid of stop words and lower cased\n",
        "with open('token_list.txt') as f:\n",
        "  with open('processed_token_list.txt','w') as w:\n",
        "    for line in f:\n",
        "      tokens = [token.strip() for token in line.split(',')]\n",
        "      clean_tokens = [wnl.lemmatize(tokens[i]).lower() for i in range(len(tokens)-1) if wnl.lemmatize(tokens[i]) not in stopwords]\n",
        "      w.write(','.join(clean_tokens)+'\\n')"
      ]
    },
    {
      "cell_type": "code",
      "execution_count": null,
      "metadata": {
        "colab": {
          "base_uri": "https://localhost:8080/"
        },
        "id": "0is2LIu6ixJP",
        "outputId": "a6867b02-385f-4875-efd0-f418b328086e"
      },
      "outputs": [],
      "source": [
        "token_list_path = '/content/processed_token_list.txt'\n",
        "data = []\n",
        "with open(token_list_path) as f:\n",
        "  for line in f:\n",
        "    tokens = [token.strip() for token in line.split(',')]\n",
        "    data.append(\" \".join(tokens[:-1]))\n",
        "print(data)"
      ]
    },
    {
      "cell_type": "code",
      "execution_count": null,
      "metadata": {
        "id": "CXHhGBbHjdin"
      },
      "outputs": [],
      "source": [
        "# Load Training Labels\n",
        "labels = []\n",
        "label_file = 'labels.txt'\n",
        "with open(label_file) as f:\n",
        "  for label in f:\n",
        "    labels.append(int(label.strip()))\n",
        "f.close()"
      ]
    },
    {
      "cell_type": "code",
      "execution_count": null,
      "metadata": {
        "id": "dAjh_Th-zDV3"
      },
      "outputs": [],
      "source": [
        "# Show emotion distribution\n",
        "import matplotlib.pyplot as plt\n",
        "import seaborn as sns\n",
        "sns.countplot(df.Emotion)\n",
        "plt.show()"
      ]
    },
    {
      "cell_type": "code",
      "execution_count": null,
      "metadata": {
        "id": "7rZbKSqujWd4"
      },
      "outputs": [],
      "source": [
        "# Emotion check\n",
        "import pandas as pd\n",
        "emotions = {}\n",
        "df = pd.read_excel('PERC_mendelly.xlsx')\n",
        "for i in range(len(df.Emotion)):\n",
        "  emotions[df.Emotion[i]] = labels[i]\n",
        "  if len(emotions) >= 9:\n",
        "    break\n",
        "print(emotions)\n",
        "emotions = {k: v for k, v in sorted(emotions.items(), key=lambda item: item[1])}\n",
        "print(emotions)"
      ]
    },
    {
      "cell_type": "code",
      "execution_count": null,
      "metadata": {
        "id": "trM_qdXYCH7T"
      },
      "outputs": [],
      "source": [
        "from keras.utils import to_categorical\n",
        "y_data = to_categorical(labels)"
      ]
    },
    {
      "cell_type": "code",
      "execution_count": null,
      "metadata": {
        "id": "KZCa6voMCtMu"
      },
      "outputs": [],
      "source": [
        "# Tokenization\n",
        "from keras.preprocessing.text import Tokenizer\n",
        "num_words = 10000\n",
        "tokenizer=Tokenizer(num_words,lower=True)\n",
        "tokenizer.fit_on_texts(data)"
      ]
    },
    {
      "cell_type": "code",
      "execution_count": null,
      "metadata": {
        "id": "X1xvRAS7FzzX"
      },
      "outputs": [],
      "source": [
        "from keras_preprocessing.sequence import pad_sequences\n",
        "X_data=tokenizer.texts_to_sequences(data) # this converts texts into some numeric sequences \n",
        "X_data_pad=pad_sequences(X_data,maxlen=300,padding='post') # this makes the length of all numeric sequences equal "
      ]
    },
    {
      "cell_type": "code",
      "execution_count": null,
      "metadata": {
        "id": "suqaqUZpmQ5T"
      },
      "outputs": [],
      "source": [
        "# Smote\n",
        "from imblearn.over_sampling import SMOTE\n",
        "smote = SMOTE()\n",
        "data_resampled, label_resampled = smote.fit_resample(X_data_pad, y_data)"
      ]
    },
    {
      "cell_type": "code",
      "execution_count": null,
      "metadata": {
        "id": "Ll7IwXgh4qs8"
      },
      "outputs": [],
      "source": [
        "# split data\n",
        "from sklearn.model_selection import train_test_split\n",
        "X_train, X_test, y_train, y_test = train_test_split(data_resampled, label_resampled, test_size=0.1, random_state=0)\n",
        "#X_train, X_val, y_train, y_val = train_test_split(X_train, y_train, test_size=0.111, random_state=0)"
      ]
    },
    {
      "cell_type": "code",
      "execution_count": null,
      "metadata": {
        "colab": {
          "base_uri": "https://localhost:8080/"
        },
        "id": "Tdpn4YfKGUEb",
        "outputId": "3297f923-7763-46b7-88dc-963526b1aefa"
      },
      "outputs": [
        {
          "name": "stdout",
          "output_type": "stream",
          "text": [
            "(1159, 300)\n",
            "(145, 300)\n",
            "(145, 300)\n",
            "1159\n",
            "145\n",
            "145\n"
          ]
        }
      ],
      "source": [
        "print(X_train.shape)\n",
        "print(X_test.shape)\n",
        "print(X_val.shape)\n",
        "print(len(y_train))\n",
        "print(len(y_val))\n",
        "print(len(y_test))"
      ]
    },
    {
      "cell_type": "code",
      "execution_count": null,
      "metadata": {
        "colab": {
          "base_uri": "https://localhost:8080/"
        },
        "id": "qJfF0HymsLz0",
        "outputId": "bc53a4d9-4f3b-44e5-b96c-a2ffc0d4574f"
      },
      "outputs": [
        {
          "name": "stdout",
          "output_type": "stream",
          "text": [
            "(1159, 9)\n",
            "[[0, 124], [1, 129], [2, 134], [3, 127], [4, 130], [5, 129], [6, 128], [7, 129], [8, 129]]\n",
            "[[0, 20], [1, 15], [2, 19], [3, 13], [4, 15], [5, 16], [6, 19], [7, 14], [8, 14]]\n",
            "[[0, 17], [1, 17], [2, 8], [3, 21], [4, 16], [5, 16], [6, 14], [7, 18], [8, 18]]\n"
          ]
        }
      ],
      "source": [
        "print(y_train.shape)\n",
        "train_count = np.bincount([np.argmax(y) for y in y_train])\n",
        "val_count = np.bincount([np.argmax(y) for y in y_val])\n",
        "test_count = np.bincount([np.argmax(y) for y in y_test])\n",
        "train_tracker = []\n",
        "val_tracker = []\n",
        "test_tracker = []\n",
        "for i in range(9):\n",
        "  train_tracker.append([i, train_count[i]])\n",
        "  val_tracker.append([i, val_count[i]])\n",
        "  test_tracker.append([i, test_count[i]])\n",
        "\n",
        "print(train_tracker)\n",
        "print(val_tracker)\n",
        "print(test_tracker)"
      ]
    },
    {
      "cell_type": "code",
      "execution_count": null,
      "metadata": {
        "colab": {
          "base_uri": "https://localhost:8080/"
        },
        "id": "eBtILw5VGol_",
        "outputId": "03ce97fa-cc2c-4a83-ae41-de517945277a"
      },
      "outputs": [
        {
          "name": "stdout",
          "output_type": "stream",
          "text": [
            "Looking in indexes: https://pypi.org/simple, https://us-python.pkg.dev/colab-wheels/public/simple/\n",
            "Requirement already satisfied: gensim in /usr/local/lib/python3.8/dist-packages (3.6.0)\n",
            "Requirement already satisfied: scipy>=0.18.1 in /usr/local/lib/python3.8/dist-packages (from gensim) (1.7.3)\n",
            "Requirement already satisfied: smart-open>=1.2.1 in /usr/local/lib/python3.8/dist-packages (from gensim) (5.2.1)\n",
            "Requirement already satisfied: six>=1.5.0 in /usr/local/lib/python3.8/dist-packages (from gensim) (1.15.0)\n",
            "Requirement already satisfied: numpy>=1.11.3 in /usr/local/lib/python3.8/dist-packages (from gensim) (1.21.6)\n"
          ]
        }
      ],
      "source": [
        "!pip install gensim"
      ]
    },
    {
      "cell_type": "code",
      "execution_count": null,
      "metadata": {
        "colab": {
          "base_uri": "https://localhost:8080/"
        },
        "id": "5O4O1Ma4GrTL",
        "outputId": "b7a46c57-8437-4953-830f-e201873f463c"
      },
      "outputs": [
        {
          "name": "stdout",
          "output_type": "stream",
          "text": [
            "[==================================================] 100.0% 376.1/376.1MB downloaded\n"
          ]
        }
      ],
      "source": [
        "import gensim.downloader as api\n",
        "glove_gensim  = api.load('glove-wiki-gigaword-300') #300 dimension"
      ]
    },
    {
      "cell_type": "code",
      "execution_count": null,
      "metadata": {
        "colab": {
          "base_uri": "https://localhost:8080/"
        },
        "id": "5nR7wJVoGy_W",
        "outputId": "fc4ea6b6-4b41-4987-d8af-74b3ec39d7cf"
      },
      "outputs": [
        {
          "data": {
            "text/plain": [
              "(10000, 300)"
            ]
          },
          "execution_count": 10,
          "metadata": {},
          "output_type": "execute_result"
        }
      ],
      "source": [
        "import numpy as np\n",
        "vector_size = 300\n",
        "weight_matrix = np.zeros((num_words ,vector_size))\n",
        "weight_matrix.shape"
      ]
    },
    {
      "cell_type": "code",
      "execution_count": null,
      "metadata": {
        "colab": {
          "base_uri": "https://localhost:8080/"
        },
        "id": "dM4-lRDPG7oe",
        "outputId": "78db7df7-1dfa-4b7c-e48d-9248e839e5c7"
      },
      "outputs": [
        {
          "name": "stderr",
          "output_type": "stream",
          "text": [
            "<ipython-input-11-ec0691b05ea9>:3: DeprecationWarning: Call to deprecated `wv` (Attribute will be removed in 4.0.0, use self instead).\n",
            "  if word in glove_gensim.wv.vocab:\n"
          ]
        }
      ],
      "source": [
        "for word, index in tokenizer.word_index.items():\n",
        "    if index < num_words: \n",
        "        if word in glove_gensim.wv.vocab:\n",
        "            weight_matrix[index] = glove_gensim[word]\n",
        "        else:\n",
        "            weight_matrix[index] = np.zeros(300)"
      ]
    },
    {
      "cell_type": "markdown",
      "metadata": {
        "id": "9-bHBGb3Hon8"
      },
      "source": [
        "**Building the model**"
      ]
    },
    {
      "cell_type": "code",
      "execution_count": null,
      "metadata": {
        "id": "PfFPSEPKHtpy"
      },
      "outputs": [],
      "source": [
        "from tensorflow.keras.models import Sequential \n",
        "from tensorflow.keras.layers import Dense, LSTM, Embedding,Bidirectional\n",
        "import tensorflow\n",
        "from tensorflow.compat.v1.keras.layers import CuDNNLSTM\n",
        "from tensorflow.keras.layers import Dropout"
      ]
    },
    {
      "cell_type": "code",
      "execution_count": null,
      "metadata": {
        "id": "w04_ZgRCHw3y"
      },
      "outputs": [],
      "source": [
        "EMBEDDING_DIM = 300\n",
        "class_num = 9\n",
        "model = Sequential()\n",
        "model.add(Embedding(input_dim = num_words,\n",
        "                    output_dim = EMBEDDING_DIM,\n",
        "                    input_length= X_train.shape[1],\n",
        "                    weights = [weight_matrix],trainable = False))\n",
        "# model.add(Bidirectional(CuDNNLSTM(100,return_sequences=True, recurrent_regularizer='l2')))\n",
        "# model.add(Bidirectional(CuDNNLSTM(200,return_sequences=True,recurrent_regularizer='l2')))\n",
        "# model.add(Bidirectional(CuDNNLSTM(100,return_sequences=False, recurrent_regularizer='l2')))\n",
        "model.add(Dropout(0.2))\n",
        "model.add(Bidirectional(CuDNNLSTM(100,return_sequences=True)))\n",
        "model.add(Dropout(0.2))\n",
        "model.add(Bidirectional(CuDNNLSTM(200,return_sequences=True)))\n",
        "model.add(Dropout(0.2))\n",
        "model.add(Bidirectional(CuDNNLSTM(100,return_sequences=False)))\n",
        "model.add(Dense(class_num, activation = 'softmax'))\n",
        "model.compile(loss = 'categorical_crossentropy', optimizer = 'adam',\n",
        "              metrics = 'accuracy')"
      ]
    },
    {
      "cell_type": "code",
      "execution_count": null,
      "metadata": {
        "id": "V2G0jNziIS2x"
      },
      "outputs": [],
      "source": [
        "#EarlyStopping and ModelCheckpoint\n",
        "from keras.callbacks import EarlyStopping, ModelCheckpoint\n",
        "es = EarlyStopping(monitor = 'val_loss', mode = 'min', verbose = 1, patience = 40)\n",
        "mc = ModelCheckpoint('./model.h5', monitor = 'val_accuracy', mode = 'max', verbose = 1, save_best_only = True)"
      ]
    },
    {
      "cell_type": "code",
      "execution_count": null,
      "metadata": {
        "id": "ErM-_MrlIX4H"
      },
      "outputs": [],
      "source": [
        "history_embedding = model.fit(X_train, \n",
        "                              y_train, \n",
        "                              epochs = 50, \n",
        "                              batch_size = 100,\n",
        "                              #validation_data=(X_val, y_val),\n",
        "                              validation_split=0.2,\n",
        "                              verbose = 1, \n",
        "                              callbacks= [es, mc])"
      ]
    },
    {
      "cell_type": "code",
      "execution_count": null,
      "metadata": {
        "colab": {
          "base_uri": "https://localhost:8080/",
          "height": 265
        },
        "id": "LyRzi02SIiXN",
        "outputId": "60799a19-b5d2-4895-a325-d499358d700f"
      },
      "outputs": [
        {
          "data": {
            "image/png": "[encoded data removed]",
            "text/plain": [
              "<Figure size 432x288 with 1 Axes>"
            ]
          },
          "metadata": {
            "needs_background": "light"
          },
          "output_type": "display_data"
        }
      ],
      "source": [
        "import matplotlib.pyplot as plt\n",
        "plt.plot(history_embedding.history['loss'], c='b', label='train loss')\n",
        "plt.plot(history_embedding.history['val_loss'] ,c='r', label='validation loss')\n",
        "plt.legend(loc='lower right')\n",
        "plt.show()"
      ]
    },
    {
      "cell_type": "code",
      "execution_count": null,
      "metadata": {
        "colab": {
          "base_uri": "https://localhost:8080/"
        },
        "id": "eduZO2qRIlIT",
        "outputId": "816ea8a9-1913-4825-ca78-fbd540c73833"
      },
      "outputs": [
        {
          "name": "stdout",
          "output_type": "stream",
          "text": [
            "5/5 [==============================] - 1s 56ms/step\n",
            "              precision    recall  f1-score   support\n",
            "\n",
            "           0       0.41      0.39      0.40        18\n",
            "           1       0.29      0.25      0.27        20\n",
            "           2       0.25      0.18      0.21        11\n",
            "           3       0.29      0.43      0.34        14\n",
            "           4       0.31      0.25      0.28        20\n",
            "           5       0.44      0.35      0.39        20\n",
            "           6       0.29      0.25      0.27        16\n",
            "           7       0.33      0.43      0.38        14\n",
            "           8       0.11      0.17      0.13        12\n",
            "\n",
            "    accuracy                           0.30       145\n",
            "   macro avg       0.30      0.30      0.30       145\n",
            "weighted avg       0.31      0.30      0.30       145\n",
            "\n"
          ]
        }
      ],
      "source": [
        "y_pred =   np.argmax(model.predict(X_test), axis  =  1)\n",
        "y_true = np.argmax(y_test, axis = 1)\n",
        "from sklearn import metrics\n",
        "print(metrics.classification_report(y_pred, y_true))"
      ]
    }
  ],
  "metadata": {
    "accelerator": "GPU",
    "colab": {
      "provenance": []
    },
    "gpuClass": "standard",
    "kernelspec": {
      "display_name": "Python 3",
      "name": "python3"
    },
    "language_info": {
      "name": "python"
    }
  },
  "nbformat": 4,
  "nbformat_minor": 0
}
